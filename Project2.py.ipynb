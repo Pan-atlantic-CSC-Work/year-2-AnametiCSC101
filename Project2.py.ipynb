{
 "cells": [
  {
   "cell_type": "code",
   "execution_count": 1,
   "id": "12e366a0",
   "metadata": {},
   "outputs": [
    {
     "name": "stdout",
     "output_type": "stream",
     "text": [
      "We only deliver to epe and pau\n",
      "Where do you leave (PAU/EPE): PAU\n",
      "Weight of item: 10\n"
     ]
    }
   ],
   "source": [
    "print(\"We only deliver to epe and pau\")\n",
    "location = input(\"Where do you leave (PAU/EPE): \")\n",
    "weight = input(\"Weight of item: \")"
   ]
  },
  {
   "cell_type": "code",
   "execution_count": 2,
   "id": "047710f8",
   "metadata": {},
   "outputs": [
    {
     "name": "stdout",
     "output_type": "stream",
     "text": [
      "price - #2000\n"
     ]
    }
   ],
   "source": [
    "if(int(weight)<10 and  location.upper()==\"PAU\"):\n",
    "    print(\"price - #1500\")\n",
    "elif(int(weight)>=10 and  location.upper()==\"PAU\"):\n",
    "    print(\"price - #2000\")\n",
    "elif(int(weight)<10 and  location.upper()==\"EPE\"):\n",
    "    print(\"price - #4000\")\n",
    "elif(int(weight)>=10 and  location.upper()==\"EPE\"):\n",
    "    print(\"price - #5000\")\n",
    "else:\n",
    "    print(\"We don't deliver there\")"
   ]
  },
  {
   "cell_type": "markdown",
   "id": "d6885e51",
   "metadata": {},
   "source": [
    "<h1><b>DELIVERY COST CHECKER</b></h1>"
   ]
  },
  {
   "cell_type": "code",
   "execution_count": 4,
   "id": "a15bed73",
   "metadata": {},
   "outputs": [],
   "source": [
    "def delivcheck(loc,mass):\n",
    "    if(int(mass)<10 and  loc.upper()==\"PAU\"):\n",
    "        print(\"price - #1500\")\n",
    "    elif(int(mass)>=10 and  loc.upper()==\"PAU\"):\n",
    "        print(\"price - #2000\")\n",
    "    elif(int(mass)<10 and  loc.upper()==\"EPE\"):\n",
    "        print(\"price - #4000\")\n",
    "    elif(int(mass)>=10 and  loc.upper()==\"EPE\"):\n",
    "        print(\"price - #5000\")\n",
    "    else:\n",
    "        print(\"We don't deliver there\")\n",
    "    \n",
    "    "
   ]
  },
  {
   "cell_type": "code",
   "execution_count": 5,
   "id": "53f726ab",
   "metadata": {},
   "outputs": [
    {
     "name": "stdout",
     "output_type": "stream",
     "text": [
      "price - #2000\n"
     ]
    }
   ],
   "source": [
    "delivcheck(location,weight)"
   ]
  }
 ],
 "metadata": {
  "kernelspec": {
   "display_name": "Python 3",
   "language": "python",
   "name": "python3"
  },
  "language_info": {
   "codemirror_mode": {
    "name": "ipython",
    "version": 3
   },
   "file_extension": ".py",
   "mimetype": "text/x-python",
   "name": "python",
   "nbconvert_exporter": "python",
   "pygments_lexer": "ipython3",
   "version": "3.8.8"
  }
 },
 "nbformat": 4,
 "nbformat_minor": 5
}
