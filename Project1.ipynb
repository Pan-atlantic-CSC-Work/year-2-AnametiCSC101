{
 "cells": [
  {
   "cell_type": "code",
   "execution_count": 3,
   "id": "0d260fff",
   "metadata": {},
   "outputs": [],
   "source": [
    "employees=[\"john\",\"micheal\",\"james\",\"kevin\",\"steven\",\"zion\",\"anemi\",\"kennedy\",\"fiona\",\"faridat\",\"francis\",\"mike\",\"anameti\",\"hadassah\",\"ireolwa\"]"
   ]
  },
  {
   "cell_type": "code",
   "execution_count": 4,
   "id": "88319f79",
   "metadata": {},
   "outputs": [
    {
     "name": "stdout",
     "output_type": "stream",
     "text": [
      "What is your name: ZION\n"
     ]
    }
   ],
   "source": [
    "check = input(\"What is your name: \")"
   ]
  },
  {
   "cell_type": "code",
   "execution_count": 5,
   "id": "3b669e78",
   "metadata": {},
   "outputs": [
    {
     "name": "stdout",
     "output_type": "stream",
     "text": [
      "Welcome\n"
     ]
    }
   ],
   "source": [
    "if(check.lower() in employees):\n",
    "    print(\"Welcome\")\n",
    "else:\n",
    "    print(\"It seems like you are lost, clear\")\n"
   ]
  },
  {
   "cell_type": "markdown",
   "id": "f3f3aa9c",
   "metadata": {},
   "source": [
    "<h1><b>EMPLOYEE CHECKER</b></h1>"
   ]
  },
  {
   "cell_type": "markdown",
   "id": "cb9f9dcb",
   "metadata": {},
   "source": [
    "<h4>With user defined functions</h4>"
   ]
  },
  {
   "cell_type": "code",
   "execution_count": 6,
   "id": "9142218f",
   "metadata": {},
   "outputs": [],
   "source": [
    "def empcheck(name):\n",
    "    if(name.lower() in employees):\n",
    "        print(\"Welcome\")\n",
    "    else:\n",
    "        print(\"It seems like you are lost, clear\")"
   ]
  },
  {
   "cell_type": "code",
   "execution_count": 7,
   "id": "9acdb1a9",
   "metadata": {},
   "outputs": [
    {
     "name": "stdout",
     "output_type": "stream",
     "text": [
      "Welcome\n"
     ]
    }
   ],
   "source": [
    "\n",
    "empcheck(check)"
   ]
  }
 ],
 "metadata": {
  "kernelspec": {
   "display_name": "Python 3",
   "language": "python",
   "name": "python3"
  },
  "language_info": {
   "codemirror_mode": {
    "name": "ipython",
    "version": 3
   },
   "file_extension": ".py",
   "mimetype": "text/x-python",
   "name": "python",
   "nbconvert_exporter": "python",
   "pygments_lexer": "ipython3",
   "version": "3.8.8"
  }
 },
 "nbformat": 4,
 "nbformat_minor": 5
}
