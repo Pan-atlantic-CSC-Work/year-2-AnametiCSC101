{
 "cells": [
  {
   "cell_type": "code",
   "execution_count": 6,
   "id": "c8656274",
   "metadata": {},
   "outputs": [],
   "source": [
    "subjects = [\"MAth\",\"English\",\"Chemistry\",\"Physics\",\"Data Processing\"]\n",
    "grades = []\n",
    "count = 0\n"
   ]
  },
  {
   "cell_type": "code",
   "execution_count": null,
   "id": "2a7f9711",
   "metadata": {},
   "outputs": [],
   "source": []
  },
  {
   "cell_type": "code",
   "execution_count": 7,
   "id": "21b74977",
   "metadata": {},
   "outputs": [
    {
     "name": "stdout",
     "output_type": "stream",
     "text": [
      "What is your Jamb score: 210\n",
      "What is your grade in MAthA\n",
      "What is your grade in EnglishA\n",
      "What is your grade in ChemistryA\n",
      "What is your grade in PhysicsA\n",
      "What is your grade in Data ProcessingA\n"
     ]
    }
   ],
   "source": [
    "jam = input(\"What is your Jamb score: \")\n",
    "for i in range(len(subjects)):\n",
    "    someone = input(\"What is your grade in \"+subjects[i])\n",
    "    grades.append(someone)\n",
    "    \n"
   ]
  },
  {
   "cell_type": "code",
   "execution_count": null,
   "id": "075bb5a3",
   "metadata": {},
   "outputs": [],
   "source": []
  },
  {
   "cell_type": "code",
   "execution_count": 8,
   "id": "827af1db",
   "metadata": {},
   "outputs": [
    {
     "name": "stdout",
     "output_type": "stream",
     "text": [
      "You aren't admitted into computer science, redo your exams\n"
     ]
    }
   ],
   "source": [
    "for i in grades:\n",
    "    if((\"A\" or \"B\" or \"C\")in grades):\n",
    "        count+=1\n",
    "if(int(jam)>=230 and count==5):\n",
    "    print(\"You are admitted into Computer Science\")\n",
    "else:\n",
    "    print(\"You aren't admitted into computer science, redo your exams\")"
   ]
  },
  {
   "cell_type": "code",
   "execution_count": 10,
   "id": "db76d7f6",
   "metadata": {},
   "outputs": [],
   "source": [
    "def sub(jamb):\n",
    "    for i in range(len(subjects)):\n",
    "        someone = input(\"What is your grade in \"+subjects[i])\n",
    "        grades.append(someone)\n",
    "    for i in grades:\n",
    "        if((\"A\" or \"B\" or \"C\")in grades):\n",
    "            count+=1\n",
    "        if(int(jamb)>=230 and count==5):\n",
    "            print(\"You are admitted into Computer Science\")\n",
    "        else:\n",
    "            print(\"You aren't admitted into computer science, redo your exams\")\n",
    "            "
   ]
  },
  {
   "cell_type": "code",
   "execution_count": 11,
   "id": "c88313de",
   "metadata": {},
   "outputs": [
    {
     "name": "stdout",
     "output_type": "stream",
     "text": [
      "What is your grade in MAthA\n",
      "What is your grade in EnglishA\n",
      "What is your grade in ChemistryA\n",
      "What is your grade in PhysicsA\n",
      "What is your grade in Data ProcessingA\n"
     ]
    },
    {
     "ename": "UnboundLocalError",
     "evalue": "local variable 'count' referenced before assignment",
     "output_type": "error",
     "traceback": [
      "\u001b[1;31m---------------------------------------------------------------------------\u001b[0m",
      "\u001b[1;31mUnboundLocalError\u001b[0m                         Traceback (most recent call last)",
      "\u001b[1;32m<ipython-input-11-687fd577137b>\u001b[0m in \u001b[0;36m<module>\u001b[1;34m\u001b[0m\n\u001b[1;32m----> 1\u001b[1;33m \u001b[0msub\u001b[0m\u001b[1;33m(\u001b[0m\u001b[0mjam\u001b[0m\u001b[1;33m)\u001b[0m\u001b[1;33m\u001b[0m\u001b[1;33m\u001b[0m\u001b[0m\n\u001b[0m",
      "\u001b[1;32m<ipython-input-10-efd6fa5c4f5d>\u001b[0m in \u001b[0;36msub\u001b[1;34m(jamb)\u001b[0m\n\u001b[0;32m      5\u001b[0m     \u001b[1;32mfor\u001b[0m \u001b[0mi\u001b[0m \u001b[1;32min\u001b[0m \u001b[0mgrades\u001b[0m\u001b[1;33m:\u001b[0m\u001b[1;33m\u001b[0m\u001b[1;33m\u001b[0m\u001b[0m\n\u001b[0;32m      6\u001b[0m         \u001b[1;32mif\u001b[0m\u001b[1;33m(\u001b[0m\u001b[1;33m(\u001b[0m\u001b[1;34m\"A\"\u001b[0m \u001b[1;32mor\u001b[0m \u001b[1;34m\"B\"\u001b[0m \u001b[1;32mor\u001b[0m \u001b[1;34m\"C\"\u001b[0m\u001b[1;33m)\u001b[0m\u001b[1;32min\u001b[0m \u001b[0mgrades\u001b[0m\u001b[1;33m)\u001b[0m\u001b[1;33m:\u001b[0m\u001b[1;33m\u001b[0m\u001b[1;33m\u001b[0m\u001b[0m\n\u001b[1;32m----> 7\u001b[1;33m             \u001b[0mcount\u001b[0m\u001b[1;33m+=\u001b[0m\u001b[1;36m1\u001b[0m\u001b[1;33m\u001b[0m\u001b[1;33m\u001b[0m\u001b[0m\n\u001b[0m\u001b[0;32m      8\u001b[0m         \u001b[1;32mif\u001b[0m\u001b[1;33m(\u001b[0m\u001b[0mint\u001b[0m\u001b[1;33m(\u001b[0m\u001b[0mjamb\u001b[0m\u001b[1;33m)\u001b[0m\u001b[1;33m>=\u001b[0m\u001b[1;36m230\u001b[0m \u001b[1;32mand\u001b[0m \u001b[0mcount\u001b[0m\u001b[1;33m==\u001b[0m\u001b[1;36m5\u001b[0m\u001b[1;33m)\u001b[0m\u001b[1;33m:\u001b[0m\u001b[1;33m\u001b[0m\u001b[1;33m\u001b[0m\u001b[0m\n\u001b[0;32m      9\u001b[0m             \u001b[0mprint\u001b[0m\u001b[1;33m(\u001b[0m\u001b[1;34m\"You are admitted into Computer Science\"\u001b[0m\u001b[1;33m)\u001b[0m\u001b[1;33m\u001b[0m\u001b[1;33m\u001b[0m\u001b[0m\n",
      "\u001b[1;31mUnboundLocalError\u001b[0m: local variable 'count' referenced before assignment"
     ]
    }
   ],
   "source": [
    "sub(jam)"
   ]
  },
  {
   "cell_type": "code",
   "execution_count": null,
   "id": "1d86c85e",
   "metadata": {},
   "outputs": [],
   "source": []
  },
  {
   "cell_type": "code",
   "execution_count": null,
   "id": "2f86c688",
   "metadata": {},
   "outputs": [],
   "source": []
  }
 ],
 "metadata": {
  "kernelspec": {
   "display_name": "Python 3",
   "language": "python",
   "name": "python3"
  },
  "language_info": {
   "codemirror_mode": {
    "name": "ipython",
    "version": 3
   },
   "file_extension": ".py",
   "mimetype": "text/x-python",
   "name": "python",
   "nbconvert_exporter": "python",
   "pygments_lexer": "ipython3",
   "version": "3.8.8"
  }
 },
 "nbformat": 4,
 "nbformat_minor": 5
}
