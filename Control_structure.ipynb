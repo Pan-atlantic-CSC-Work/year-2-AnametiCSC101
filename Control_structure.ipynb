{
 "cells": [
  {
   "cell_type": "markdown",
   "id": "b47512cf",
   "metadata": {},
   "source": [
    "<h1><b>Control Structures</b></h1>"
   ]
  },
  {
   "cell_type": "markdown",
   "id": "1e7c9e82",
   "metadata": {},
   "source": [
    "<img src=\"https://cdn.pixabay.com/photo/2015/04/23/22/00/tree-736885__480.jpg\"></img>"
   ]
  },
  {
   "cell_type": "markdown",
   "id": "6a0fb5d4",
   "metadata": {},
   "source": [
    "x = 5"
   ]
  },
  {
   "cell_type": "code",
   "execution_count": 4,
   "id": "69dccbcc",
   "metadata": {},
   "outputs": [],
   "source": [
    "alist=[\"string\",1]"
   ]
  },
  {
   "cell_type": "code",
   "execution_count": 1,
   "id": "72f4f57e",
   "metadata": {},
   "outputs": [],
   "source": [
    "x=5\n",
    "y=7"
   ]
  },
  {
   "cell_type": "code",
   "execution_count": 2,
   "id": "f9b86854",
   "metadata": {},
   "outputs": [
    {
     "name": "stdout",
     "output_type": "stream",
     "text": [
      "x is less than y\n"
     ]
    }
   ],
   "source": [
    "if x<y:\n",
    "    print(\"x is less than y\")\n",
    "else:\n",
    "    print(\"x is greater than y\")"
   ]
  },
  {
   "cell_type": "code",
   "execution_count": 3,
   "id": "adbc0f48",
   "metadata": {},
   "outputs": [],
   "source": [
    "a=5\n",
    "b=7\n",
    "c=10"
   ]
  },
  {
   "cell_type": "code",
   "execution_count": 4,
   "id": "7f870134",
   "metadata": {},
   "outputs": [
    {
     "name": "stdout",
     "output_type": "stream",
     "text": [
      "A is less than b + c\n"
     ]
    }
   ],
   "source": [
    "if a>b+c:\n",
    "    print(\"A is greater than b + c\")\n",
    "else:\n",
    "    print(\"A is less than b + c\")"
   ]
  },
  {
   "cell_type": "markdown",
   "id": "ce8d62f4",
   "metadata": {},
   "source": [
    "Laboratory Practice"
   ]
  },
  {
   "cell_type": "code",
   "execution_count": null,
   "id": "5f6cea96",
   "metadata": {},
   "outputs": [],
   "source": [
    "temperature = int(input(\"What is the temperature in Celsisu? \"))\n",
    "if temperature > 40:\n",
    "    print(\"It is hot outside\")\n",
    "print(\"Done\")"
   ]
  },
  {
   "cell_type": "code",
   "execution_count": null,
   "id": "fdcf9e83",
   "metadata": {},
   "outputs": [],
   "source": [
    "userName = input(\"What is your name? \")\n",
    "if userName==\"Joseph\":\n",
    "    print(\"You have a nice name. \")\n",
    "else:\n",
    "    print(\"Your name is ok.\")"
   ]
  },
  {
   "cell_type": "code",
   "execution_count": null,
   "id": "d524f1a7",
   "metadata": {},
   "outputs": [],
   "source": [
    "a=33\n",
    "b=33\n",
    "if b>a:\n",
    "    print(\"b is greater than a\")\n",
    "elif a==b:\n",
    "    print(\"a and b are equal\")"
   ]
  },
  {
   "cell_type": "code",
   "execution_count": null,
   "id": "ffe27cf7",
   "metadata": {},
   "outputs": [],
   "source": [
    "tempaerature = int(input(\"what is the temperature in Celsisus? \"))\n",
    "if temperature > 90:\n",
    "    print(\"It is hot outside\")\n",
    "elif temperature < 30:\n",
    "    print(\"It is cold outside\")\n",
    "else:\n",
    "    print(\"It is not hot outside\")\n",
    "print(\"Done\")"
   ]
  },
  {
   "cell_type": "code",
   "execution_count": null,
   "id": "a744b697",
   "metadata": {},
   "outputs": [],
   "source": [
    "x = 41\n",
    "if x > 10:\n",
    "    print(\"Above ten,\")\n",
    "    if x > 20:\n",
    "        print(\"and also above 20!\")\n",
    "    else:\n",
    "        print(\"but not above 20.\")"
   ]
  },
  {
   "cell_type": "code",
   "execution_count": null,
   "id": "d501eeb8",
   "metadata": {},
   "outputs": [],
   "source": [
    "numbers = [1,2,4,6,11,20]\n",
    "sq = 0\n",
    "for val in numbers:\n",
    "    sq = val * val\n",
    "    print(sq)"
   ]
  },
  {
   "cell_type": "code",
   "execution_count": null,
   "id": "61092989",
   "metadata": {},
   "outputs": [],
   "source": [
    "for i in range(10):\n",
    "    print(i)"
   ]
  },
  {
   "cell_type": "code",
   "execution_count": null,
   "id": "923984b9",
   "metadata": {},
   "outputs": [],
   "source": [
    "for i in range(1,11):\n",
    "    print(i)"
   ]
  },
  {
   "cell_type": "code",
   "execution_count": null,
   "id": "51e1e435",
   "metadata": {},
   "outputs": [],
   "source": [
    "for i in range(10):\n",
    "    print(i+1)"
   ]
  },
  {
   "cell_type": "code",
   "execution_count": null,
   "id": "b3cafbbc",
   "metadata": {},
   "outputs": [],
   "source": [
    "for i in range(2,12,2):\n",
    "    print(i)"
   ]
  },
  {
   "cell_type": "code",
   "execution_count": null,
   "id": "ee5c7218",
   "metadata": {},
   "outputs": [],
   "source": [
    "for i in range(5):\n",
    "    print((i + 1)*2)"
   ]
  },
  {
   "cell_type": "code",
   "execution_count": null,
   "id": "d1b03828",
   "metadata": {},
   "outputs": [],
   "source": [
    "i = 0\n",
    "while i < 10:\n",
    "    print(i)\n",
    "    i = i + 1\n",
    "    \n",
    "i = 0\n",
    "while i < 10:\n",
    "    print(i)\n",
    "    i += 1"
   ]
  },
  {
   "cell_type": "code",
   "execution_count": null,
   "id": "caab78f4",
   "metadata": {},
   "outputs": [],
   "source": [
    "done = False\n",
    "while not done:\n",
    "    quit = input(\"Do you want to quit? \")\n",
    "    if quit == \"y\":\n",
    "        done = True\n",
    "        \n",
    "attack = input(\"Does your elf attack the dragon? \")\n",
    "if attack == \"y\":\n",
    "    print(\"Bad choice, you died.\")\n",
    "    done = True"
   ]
  },
  {
   "cell_type": "code",
   "execution_count": null,
   "id": "0d5b50b7",
   "metadata": {},
   "outputs": [],
   "source": [
    "def check_guess(guess, answer):\n",
    "    global score\n",
    "    still_guessing = True\n",
    "    attempt = 0\n",
    "    while still_guessing and attempt < 3:\n",
    "        if guess.lower() == answer.lower():\n",
    "            print('Correct answer')\n",
    "            score = score + 1\n",
    "            stil_guessing = False\n",
    "        else:\n",
    "            if attempt < 2:\n",
    "                guess = input('Sorry Wrong answer. Try again. ')\n",
    "\n",
    "            attempt += 1\n",
    "    if attempt == 3:\n",
    "        print('The Correct answer is ',answer)"
   ]
  },
  {
   "cell_type": "code",
   "execution_count": null,
   "id": "092a3348",
   "metadata": {},
   "outputs": [],
   "source": [
    "score = 0\n",
    "\n",
    "print('Gues the Computer Quiz!')\n",
    "guess1 = input('Which component controls the computer functions and transmits data?')\n",
    "check_guess(guess1,'CPU')\n",
    "guess2 = input('What is the meaning of ASCII? ')\n",
    "check_guess(guess2, 'American Standard Code for Information Interchnage')\n",
    "guess3 = input('Which Software helps to load the basic program automatically as soon as the computer is started?')\n",
    "check_guess(guess3, 'Operating system')\n",
    "\n",
    "print(\"Your score is\",str(score))"
   ]
  },
  {
   "cell_type": "markdown",
   "id": "7b5ac131",
   "metadata": {},
   "source": [
    "<h1><b>Project II</b></h1>"
   ]
  },
  {
   "cell_type": "code",
   "execution_count": null,
   "id": "a9450605",
   "metadata": {},
   "outputs": [],
   "source": [
    "from math import sqrt\n",
    "\n",
    "print(\"Quadratic function: (a * x^2) + b*x +c \")\n",
    "a = float(input(\"a: \"))\n",
    "b = float(input(\"b: \"))\n",
    "c = float(input(\"c: \"))\n",
    "\n",
    "r = b**2 - 4*a*c\n",
    "\n",
    "if r>0:\n",
    "    num_roots = 2\n",
    "    x1 = (((-b) + sqrt(r))/(2*a))\n",
    "    x1 = (((-b) - sqrt(r))/(2*a))\n",
    "    print(\"There are 2 roots: %f and %f\" %(x1,x2))\n",
    "elif r == 0:\n",
    "    num_roots = 1\n",
    "    x = (-b)/2*a\n",
    "    print(\"There is one root: \", x)\n",
    "else:\n",
    "    num_roots = 0\n",
    "    print(\"No roots, discriminant < 0.\")\n",
    "    exit()"
   ]
  },
  {
   "cell_type": "markdown",
   "id": "d910e5bc",
   "metadata": {},
   "source": [
    "<h1><b>Project IV: Nine Lives</b></h1>"
   ]
  },
  {
   "cell_type": "code",
   "execution_count": null,
   "id": "7190f191",
   "metadata": {},
   "outputs": [],
   "source": [
    "import random\n",
    "lives = 9\n",
    "words = ['lanes','tried','loved','blamed','scene','count','cults','blogg']\n",
    "secret_word = random.choice(words)\n",
    "clue = list('?????')\n",
    "heart_symbol = u'\\u2764'\n",
    "guessed_word_correctly = False\n",
    "\n",
    "def update_clue(guessed_letter, secret_word, clue):\n",
    "    index = 0\n",
    "    while index < len(secret_word):\n",
    "        if guessed_letter == secret_word[index]:\n",
    "            clue[index] = guessed_letter\n",
    "        index += 1\n",
    "diff = input('Choose difficulty (type 1, 2, or 3): \\n 1 Easy \\n 2 Normal \\n 3 hard\\n')\n",
    "diff = int(diff)\n",
    "if diff == 1:\n",
    "    lives = 6\n",
    "elif diff == 12:\n",
    "    lives =9\n",
    "else:\n",
    "    lives=12\n",
    "\n",
    "while lives>0:\n",
    "    print(clue)\n",
    "    print('Lives left: ',heart_symbol*lives)\n",
    "    guess = input('Guess aletter or the whole word: ')\n",
    "    if guess == secret_word:\n",
    "        guessed_word_correctly = True\n",
    "        break\n",
    "    if guess in secret_word:\n",
    "        update_clue(guess, secret_word, clue)\n",
    "    else:\n",
    "        print('Incorrect. You lose a life')\n",
    "        lives -= 1\n",
    "if guessed_word_correctly:\n",
    "    print('You won! The secret word was ',secret_word)\n",
    "else:\n",
    "    print('You lost! The secret word was ',secret_word)"
   ]
  },
  {
   "cell_type": "code",
   "execution_count": null,
   "id": "daddd118",
   "metadata": {},
   "outputs": [],
   "source": []
  }
 ],
 "metadata": {
  "kernelspec": {
   "display_name": "Python 3",
   "language": "python",
   "name": "python3"
  },
  "language_info": {
   "codemirror_mode": {
    "name": "ipython",
    "version": 3
   },
   "file_extension": ".py",
   "mimetype": "text/x-python",
   "name": "python",
   "nbconvert_exporter": "python",
   "pygments_lexer": "ipython3",
   "version": "3.8.8"
  }
 },
 "nbformat": 4,
 "nbformat_minor": 5
}
